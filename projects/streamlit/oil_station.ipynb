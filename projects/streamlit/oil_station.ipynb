{
 "cells": [
  {
   "cell_type": "code",
   "execution_count": 1,
   "id": "126b9846",
   "metadata": {},
   "outputs": [],
   "source": [
    "import requests\n",
    "import random\n",
    "import pandas as pd \n",
    "from tqdm import tqdm\n",
    "from bs4  import BeautifulSoup\n",
    "import json \n",
    "from tqdm import tqdm\n",
    "import time\n",
    "from dotenv import load_dotenv\n",
    "import ast\n",
    "import os"
   ]
  },
  {
   "cell_type": "code",
   "execution_count": 2,
   "id": "a32a63cb",
   "metadata": {},
   "outputs": [
    {
     "data": {
      "text/plain": [
       "True"
      ]
     },
     "execution_count": 2,
     "metadata": {},
     "output_type": "execute_result"
    }
   ],
   "source": [
    "load_dotenv()"
   ]
  },
  {
   "cell_type": "code",
   "execution_count": 3,
   "id": "87d0aac7",
   "metadata": {},
   "outputs": [],
   "source": [
    "YOUR_API_KEY = os.getenv('API_KEY')"
   ]
  },
  {
   "cell_type": "code",
   "execution_count": 5,
   "id": "81d9cec3",
   "metadata": {},
   "outputs": [],
   "source": [
    "df = pd.read_csv('precio_mes_combustible.csv')"
   ]
  },
  {
   "cell_type": "code",
   "execution_count": null,
   "id": "6c7c38c4",
   "metadata": {},
   "outputs": [],
   "source": [
    "df.head(2)"
   ]
  },
  {
   "cell_type": "markdown",
   "id": "ddad1d17",
   "metadata": {},
   "source": [
    "<h1><center>Geocoding Api's</center></h1>\n",
    "\n",
    "## Google API\n",
    "\n",
    "* [**Google_Free_Tier**](https://cloud.google.com/free/?utm_source=google&utm_medium=cpc&utm_campaign=latam-LATAM-all-es-dr-AKWS-all-all-trial-p-dr-1011454-LUAC0013610&utm_content=text-ad-none-any-DEV_c-CRE_540885993580-ADGP_Hybrid%20%7C%20BKWS%20-%20PHR%20%7C%20Txt%20~%20Management-Tools_Console-KWID_43700065922071537-kwd-651816590614&utm_term=KW_google%20console-ST_Google%20Console&gclid=Cj0KCQjwnbmaBhD-ARIsAGTPcfWVMlJlTFywFNaAo8P-MNL4_gM6L7yucqAQ37xg1AIEHzpAzF_kkAoaAsszEALw_wcB&gclsrc=aw.ds)\n",
    "* [**Google_Api_Pricing**](https://mapsplatform.google.com/pricing/)\n",
    "\n",
    "## HERE Platform\n",
    "\n",
    "* [**Here_Register**](https://platform.here.com/sign-up?step=verify-identity&aid=www.here.com-start-building)\n",
    "* [**Here_Princing**](https://www.here.com/pricing)\n",
    "* [**Geocoding_Documentation**](https://developer.here.com/documentation/geocoding-search-api/dev_guide/topics/endpoint-geocode-brief.html)"
   ]
  },
  {
   "cell_type": "markdown",
   "id": "2869c9b2",
   "metadata": {},
   "source": [
    "# Clean Data "
   ]
  },
  {
   "cell_type": "code",
   "execution_count": 7,
   "id": "1c2e4461",
   "metadata": {},
   "outputs": [
    {
     "data": {
      "text/plain": [
       "2"
      ]
     },
     "execution_count": 7,
     "metadata": {},
     "output_type": "execute_result"
    }
   ],
   "source": [
    "df[df['Periodo']==2022]['Mes'].max()"
   ]
  },
  {
   "cell_type": "code",
   "execution_count": 8,
   "id": "faca0bf0",
   "metadata": {},
   "outputs": [],
   "source": [
    "df2 =  df[(df['Periodo']==2022) & (df['Mes']==2)]\n",
    "df2 =  df2[(df2['Departamento']=='ANTIOQUIA') | (df2['Departamento']=='BOGOTA D.C.')]"
   ]
  },
  {
   "cell_type": "code",
   "execution_count": 27,
   "id": "99378d8f",
   "metadata": {},
   "outputs": [
    {
     "data": {
      "text/plain": [
       "BOGOTA  D.C.    1368\n",
       "Name: Municipio, dtype: int64"
      ]
     },
     "execution_count": 27,
     "metadata": {},
     "output_type": "execute_result"
    }
   ],
   "source": [
    "df2['Municipio'].value_counts().head(10)"
   ]
  },
  {
   "cell_type": "code",
   "execution_count": 28,
   "id": "2c8f9233",
   "metadata": {},
   "outputs": [],
   "source": [
    "df3 = df2[(df2['Departamento']=='BOGOTA D.C.') | ((df2['Departamento']=='ANTIOQUIA') & ((df2['Municipio']=='MEDELLIN') | (df2['Municipio']=='ITAGUI') | (df2['Municipio']=='BELLO') | (df2['Municipio']=='SABANETA') | (df2['Municipio']=='RIONEGRO') | (df2['Municipio']=='ENVIGADO')))]\n",
    "df3.reset_index(inplace = True)\n",
    "df3.drop(columns = 'index',inplace = True)"
   ]
  },
  {
   "cell_type": "code",
   "execution_count": null,
   "id": "a5e4b369",
   "metadata": {},
   "outputs": [],
   "source": [
    "df3.head(2)"
   ]
  },
  {
   "cell_type": "code",
   "execution_count": null,
   "id": "c5ad2d58",
   "metadata": {},
   "outputs": [],
   "source": [
    "df3['Municipio'].unique()"
   ]
  },
  {
   "cell_type": "code",
   "execution_count": 37,
   "id": "69a4db59",
   "metadata": {},
   "outputs": [],
   "source": [
    "df3['Dir2'] = df3['Direccion'].apply(lambda x : x.replace('#','No'))\n",
    "df3['Full_Address'] = df3.apply(lambda x : x['Direccion'] + ', ' + x['Municipio'].capitalize() + ', Colombia' , axis = 1)"
   ]
  },
  {
   "cell_type": "code",
   "execution_count": null,
   "id": "7cf00a9c",
   "metadata": {},
   "outputs": [],
   "source": [
    "df3['Full_Address'].nunique()"
   ]
  },
  {
   "cell_type": "code",
   "execution_count": null,
   "id": "cb0b3cf9",
   "metadata": {},
   "outputs": [],
   "source": [
    "df3['Full_Address'][0]"
   ]
  },
  {
   "cell_type": "code",
   "execution_count": 40,
   "id": "1e0e14cb",
   "metadata": {},
   "outputs": [],
   "source": [
    "estaciones =  df3[['Nombre_comercial','Direccion','Full_Address']].drop_duplicates(subset = 'Nombre_comercial')\n",
    "estaciones.reset_index(inplace = True)\n",
    "estaciones.drop(columns = 'index',inplace = True)"
   ]
  },
  {
   "cell_type": "code",
   "execution_count": null,
   "id": "8e475671",
   "metadata": {},
   "outputs": [],
   "source": [
    "estaciones['Full_Address'][0]"
   ]
  },
  {
   "cell_type": "code",
   "execution_count": null,
   "id": "a02b33c7",
   "metadata": {},
   "outputs": [],
   "source": [
    "address = estaciones['Full_Address'][0]\n",
    "url = f'https://geocode.search.hereapi.com/v1/geocode?q={address}&apiKey={YOUR_API_KEY}'\n",
    "response = requests.get(url).json()"
   ]
  },
  {
   "cell_type": "code",
   "execution_count": 48,
   "id": "2ec7336c",
   "metadata": {},
   "outputs": [],
   "source": [
    "def Get_Coords(address,YOUR_API_KEY):\n",
    "    \n",
    "    url = f'https://geocode.search.hereapi.com/v1/geocode?q={address}&apiKey={YOUR_API_KEY}'\n",
    "    \n",
    "    try : \n",
    "        \n",
    "        response = requests.get(url).json()\n",
    "        CleanAddress = response['items'][0]['title'].upper()\n",
    "        LAT = response['items'][0]['position']['lat']\n",
    "        LNG = response['items'][0]['position']['lng']\n",
    "        \n",
    "        results = [CleanAddress,LAT,LNG]\n",
    "        \n",
    "    except :\n",
    "        \n",
    "        results = ['Not Found','NA','NA']\n",
    "        \n",
    "    \n",
    "    return results "
   ]
  },
  {
   "cell_type": "code",
   "execution_count": null,
   "id": "a8c7acee",
   "metadata": {},
   "outputs": [],
   "source": [
    "Get_Coords(address,YOUR_API_KEY)"
   ]
  },
  {
   "cell_type": "markdown",
   "id": "e3badb91",
   "metadata": {},
   "source": [
    "# Extracción de coordenadas "
   ]
  },
  {
   "cell_type": "code",
   "execution_count": 50,
   "id": "6421b985",
   "metadata": {},
   "outputs": [
    {
     "name": "stderr",
     "output_type": "stream",
     "text": [
      "100%|\u001b[32m██████████\u001b[0m| 376/376 [14:37<00:00,  2.33s/it]\n"
     ]
    }
   ],
   "source": [
    "coordenadas = []\n",
    "tiempo = [1,2,2.5]\n",
    "\n",
    "for i in tqdm(range(len(estaciones['Full_Address'])),colour = 'green'):\n",
    "    \n",
    "    try :\n",
    "        \n",
    "        R = Get_Coords(estaciones['Full_Address'][i],YOUR_API_KEY)\n",
    "        geo_source = R[1],R[2]\n",
    "        coordenadas.append(geo_source)\n",
    "        \n",
    "    except :\n",
    "        \n",
    "        coordenadas.append('Error')\n",
    "        \n",
    "    \n",
    "    time.sleep(random.choices(tiempo)[0])\n",
    "    \n",
    "        "
   ]
  },
  {
   "cell_type": "code",
   "execution_count": null,
   "id": "355811d9",
   "metadata": {},
   "outputs": [],
   "source": [
    "coordenadas"
   ]
  },
  {
   "cell_type": "code",
   "execution_count": 52,
   "id": "8dcdd207",
   "metadata": {},
   "outputs": [],
   "source": [
    "estaciones['Coords'] = coordenadas"
   ]
  },
  {
   "cell_type": "code",
   "execution_count": null,
   "id": "e41642f7",
   "metadata": {},
   "outputs": [],
   "source": [
    "len(df3)"
   ]
  },
  {
   "cell_type": "code",
   "execution_count": null,
   "id": "379c95f1",
   "metadata": {},
   "outputs": [],
   "source": [
    "estaciones.head(2)"
   ]
  },
  {
   "cell_type": "code",
   "execution_count": 55,
   "id": "7ce19248",
   "metadata": {},
   "outputs": [],
   "source": [
    "df_final = pd.merge(df3,estaciones[['Full_Address','Coords']],how = 'inner' , on = 'Full_Address')"
   ]
  },
  {
   "cell_type": "code",
   "execution_count": 56,
   "id": "23c3fe1a",
   "metadata": {},
   "outputs": [
    {
     "data": {
      "text/html": [
       "<div>\n",
       "<style scoped>\n",
       "    .dataframe tbody tr th:only-of-type {\n",
       "        vertical-align: middle;\n",
       "    }\n",
       "\n",
       "    .dataframe tbody tr th {\n",
       "        vertical-align: top;\n",
       "    }\n",
       "\n",
       "    .dataframe thead th {\n",
       "        text-align: right;\n",
       "    }\n",
       "</style>\n",
       "<table border=\"1\" class=\"dataframe\">\n",
       "  <thead>\n",
       "    <tr style=\"text-align: right;\">\n",
       "      <th></th>\n",
       "      <th>Periodo</th>\n",
       "      <th>Mes</th>\n",
       "      <th>Codigo_departamento</th>\n",
       "      <th>Departamento</th>\n",
       "      <th>Codigo_municipio</th>\n",
       "      <th>Municipio</th>\n",
       "      <th>Nombre_comercial</th>\n",
       "      <th>Bandera</th>\n",
       "      <th>Direccion</th>\n",
       "      <th>Producto</th>\n",
       "      <th>Precio</th>\n",
       "      <th>Estado</th>\n",
       "      <th>Dir2</th>\n",
       "      <th>Full_Address</th>\n",
       "      <th>Coords</th>\n",
       "    </tr>\n",
       "  </thead>\n",
       "  <tbody>\n",
       "    <tr>\n",
       "      <th>0</th>\n",
       "      <td>2022</td>\n",
       "      <td>2</td>\n",
       "      <td>11</td>\n",
       "      <td>BOGOTA D.C.</td>\n",
       "      <td>11001</td>\n",
       "      <td>BOGOTA  D.C.</td>\n",
       "      <td>SUPER ESTACION DE SERVICIO TEXACO 10</td>\n",
       "      <td>TEXACO</td>\n",
       "      <td>AVENIDA CARRERA 7 No. 123A-48</td>\n",
       "      <td>GASOLINA CORRIENTE OXIGENADA</td>\n",
       "      <td>9860</td>\n",
       "      <td>A</td>\n",
       "      <td>AVENIDA CARRERA 7 No. 123A-48</td>\n",
       "      <td>AVENIDA CARRERA 7 No. 123A-48, Bogota  d.c., C...</td>\n",
       "      <td>(4.69921, -74.02878)</td>\n",
       "    </tr>\n",
       "    <tr>\n",
       "      <th>1</th>\n",
       "      <td>2022</td>\n",
       "      <td>2</td>\n",
       "      <td>11</td>\n",
       "      <td>BOGOTA D.C.</td>\n",
       "      <td>11001</td>\n",
       "      <td>BOGOTA  D.C.</td>\n",
       "      <td>SUPER ESTACION DE SERVICIO TEXACO 10</td>\n",
       "      <td>TEXACO</td>\n",
       "      <td>AVENIDA CARRERA 7 No. 123A-48</td>\n",
       "      <td>BIODIESEL EXTRA</td>\n",
       "      <td>9780</td>\n",
       "      <td>A</td>\n",
       "      <td>AVENIDA CARRERA 7 No. 123A-48</td>\n",
       "      <td>AVENIDA CARRERA 7 No. 123A-48, Bogota  d.c., C...</td>\n",
       "      <td>(4.69921, -74.02878)</td>\n",
       "    </tr>\n",
       "    <tr>\n",
       "      <th>2</th>\n",
       "      <td>2022</td>\n",
       "      <td>2</td>\n",
       "      <td>11</td>\n",
       "      <td>BOGOTA D.C.</td>\n",
       "      <td>11001</td>\n",
       "      <td>BOGOTA  D.C.</td>\n",
       "      <td>SUPER ESTACION DE SERVICIO TEXACO 10</td>\n",
       "      <td>TEXACO</td>\n",
       "      <td>AVENIDA CARRERA 7 No. 123A-48</td>\n",
       "      <td>GASOLINA EXTRA OXIGENADA</td>\n",
       "      <td>17250</td>\n",
       "      <td>A</td>\n",
       "      <td>AVENIDA CARRERA 7 No. 123A-48</td>\n",
       "      <td>AVENIDA CARRERA 7 No. 123A-48, Bogota  d.c., C...</td>\n",
       "      <td>(4.69921, -74.02878)</td>\n",
       "    </tr>\n",
       "  </tbody>\n",
       "</table>\n",
       "</div>"
      ],
      "text/plain": [
       "   Periodo  Mes  Codigo_departamento Departamento  Codigo_municipio  \\\n",
       "0     2022    2                   11  BOGOTA D.C.             11001   \n",
       "1     2022    2                   11  BOGOTA D.C.             11001   \n",
       "2     2022    2                   11  BOGOTA D.C.             11001   \n",
       "\n",
       "      Municipio                      Nombre_comercial Bandera  \\\n",
       "0  BOGOTA  D.C.  SUPER ESTACION DE SERVICIO TEXACO 10  TEXACO   \n",
       "1  BOGOTA  D.C.  SUPER ESTACION DE SERVICIO TEXACO 10  TEXACO   \n",
       "2  BOGOTA  D.C.  SUPER ESTACION DE SERVICIO TEXACO 10  TEXACO   \n",
       "\n",
       "                       Direccion                      Producto  Precio Estado  \\\n",
       "0  AVENIDA CARRERA 7 No. 123A-48  GASOLINA CORRIENTE OXIGENADA    9860      A   \n",
       "1  AVENIDA CARRERA 7 No. 123A-48               BIODIESEL EXTRA    9780      A   \n",
       "2  AVENIDA CARRERA 7 No. 123A-48      GASOLINA EXTRA OXIGENADA   17250      A   \n",
       "\n",
       "                            Dir2  \\\n",
       "0  AVENIDA CARRERA 7 No. 123A-48   \n",
       "1  AVENIDA CARRERA 7 No. 123A-48   \n",
       "2  AVENIDA CARRERA 7 No. 123A-48   \n",
       "\n",
       "                                        Full_Address                Coords  \n",
       "0  AVENIDA CARRERA 7 No. 123A-48, Bogota  d.c., C...  (4.69921, -74.02878)  \n",
       "1  AVENIDA CARRERA 7 No. 123A-48, Bogota  d.c., C...  (4.69921, -74.02878)  \n",
       "2  AVENIDA CARRERA 7 No. 123A-48, Bogota  d.c., C...  (4.69921, -74.02878)  "
      ]
     },
     "execution_count": 56,
     "metadata": {},
     "output_type": "execute_result"
    }
   ],
   "source": [
    "df_final.head(3)"
   ]
  },
  {
   "cell_type": "code",
   "execution_count": 57,
   "id": "074390ab",
   "metadata": {},
   "outputs": [],
   "source": [
    "df_final = pd.merge(df3,estaciones[['Full_Address','Coords']],how = 'inner' , on = 'Full_Address')"
   ]
  },
  {
   "cell_type": "code",
   "execution_count": 58,
   "id": "7a4810c4",
   "metadata": {},
   "outputs": [],
   "source": [
    "df_final.to_csv('DATASET_FINAL.CSV',index = False)"
   ]
  }
 ],
 "metadata": {
  "kernelspec": {
   "display_name": ".venv",
   "language": "python",
   "name": "python3"
  },
  "language_info": {
   "codemirror_mode": {
    "name": "ipython",
    "version": 3
   },
   "file_extension": ".py",
   "mimetype": "text/x-python",
   "name": "python",
   "nbconvert_exporter": "python",
   "pygments_lexer": "ipython3",
   "version": "3.10.9"
  },
  "vscode": {
   "interpreter": {
    "hash": "6b055c99a4caf5bf9b380a88b87db5eb7a42f21edf86e2ad684f16a148234611"
   }
  }
 },
 "nbformat": 4,
 "nbformat_minor": 5
}

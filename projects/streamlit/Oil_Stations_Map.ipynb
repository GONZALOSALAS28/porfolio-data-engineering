{
 "cells": [
  {
   "cell_type": "code",
   "execution_count": null,
   "metadata": {},
   "outputs": [],
   "source": [
    "!pip install streamlit-folium==0.10.0\n",
    "!pip install Pillow==9.4.0\n",
    "!pip install pyproj==3.4.0\n",
    "!pip install haversine==2.7.0\n",
    "!pip install shapely\n",
    "!pip install tqdm==4.62.3\n",
    "!pip install geojson\n",
    "!pip install folium\n",
    "!pip install tqdm\n",
    "!pip install geojson\n",
    "!pip install python-dotenv==0.21.0"
   ]
  },
  {
   "cell_type": "code",
   "execution_count": 5,
   "metadata": {},
   "outputs": [
    {
     "data": {
      "text/plain": [
       "True"
      ]
     },
     "execution_count": 5,
     "metadata": {},
     "output_type": "execute_result"
    }
   ],
   "source": [
    "import requests\n",
    "import random\n",
    "import pandas as pd \n",
    "from tqdm import tqdm\n",
    "import json \n",
    "\n",
    "import ast\n",
    "\n",
    "# Tools\n",
    "\n",
    "import folium\n",
    "from shapely.geometry import Polygon\n",
    "import numpy as np\n",
    "import geojson\n",
    "import matplotlib.pyplot as plt\n",
    "import geopandas as gpd\n",
    "import shapely.wkt\n",
    "from haversine import haversine, Unit\n",
    "import time\n",
    "from pyproj import Geod\n",
    "\n",
    "from shapely import wkt\n",
    "from geopandas import datasets, GeoDataFrame, read_file, points_from_xy\n",
    "from geopandas.tools import overlay\n",
    "from geopandas.tools import sjoin\n",
    "\n",
    "from folium.plugins import MeasureControl\n",
    "from folium.plugins import MarkerCluster\n",
    "\n",
    "import os\n",
    "from dotenv import load_dotenv\n",
    "\n",
    "load_dotenv()"
   ]
  },
  {
   "cell_type": "code",
   "execution_count": 8,
   "metadata": {},
   "outputs": [],
   "source": [
    "YOUR_API_KEY = os.getenv('API_KEY')"
   ]
  },
  {
   "cell_type": "code",
   "execution_count": null,
   "metadata": {},
   "outputs": [],
   "source": [
    "df_map = pd.read_csv('DATASET_FINAL.csv')"
   ]
  },
  {
   "cell_type": "code",
   "execution_count": null,
   "metadata": {},
   "outputs": [],
   "source": [
    "df_map.head(2)"
   ]
  },
  {
   "cell_type": "code",
   "execution_count": null,
   "metadata": {},
   "outputs": [],
   "source": [
    "df_map = df_map.drop_duplicates(subset=['Nombre_comercial','Bandera','Producto'])"
   ]
  },
  {
   "cell_type": "code",
   "execution_count": null,
   "metadata": {},
   "outputs": [],
   "source": [
    "len(df_map)"
   ]
  },
  {
   "cell_type": "code",
   "execution_count": null,
   "metadata": {},
   "outputs": [],
   "source": [
    "df_map['Coords'].value_counts()"
   ]
  },
  {
   "cell_type": "code",
   "execution_count": null,
   "metadata": {},
   "outputs": [],
   "source": [
    "df_map[df_map['Coords']==\"('NA', 'NA')\"]['Direccion'].unique()"
   ]
  },
  {
   "cell_type": "code",
   "execution_count": null,
   "metadata": {},
   "outputs": [],
   "source": [
    "df_map.info()"
   ]
  },
  {
   "cell_type": "code",
   "execution_count": null,
   "metadata": {},
   "outputs": [],
   "source": [
    "df_map['Coords'][0]"
   ]
  },
  {
   "cell_type": "code",
   "execution_count": null,
   "metadata": {},
   "outputs": [],
   "source": [
    "float(df_map['Coords'][0].replace('(','').replace(')','').split(',')[0]) # Lat"
   ]
  },
  {
   "cell_type": "code",
   "execution_count": null,
   "metadata": {},
   "outputs": [],
   "source": [
    "float(df_map['Coords'][0].replace('(','').replace(')','').split(',')[1].strip()) # Longitud"
   ]
  },
  {
   "cell_type": "code",
   "execution_count": null,
   "metadata": {},
   "outputs": [],
   "source": [
    "df_map['LAT'] = df_map['Coords'].apply(lambda x : float(x.replace('(','').replace(')','').split(',')[0]) if x !=  \"('NA', 'NA')\"  else 'Empty')\n",
    "df_map['LNG'] = df_map['Coords'].apply(lambda x : float(x.replace('(','').replace(')','').split(',')[1]) if x !=  \"('NA', 'NA')\"  else 'Empty')"
   ]
  },
  {
   "cell_type": "code",
   "execution_count": null,
   "metadata": {},
   "outputs": [],
   "source": [
    "df_map['LAT'].value_counts()"
   ]
  },
  {
   "cell_type": "code",
   "execution_count": null,
   "metadata": {},
   "outputs": [],
   "source": [
    "df_map['LNG'].value_counts()"
   ]
  },
  {
   "attachments": {},
   "cell_type": "markdown",
   "metadata": {},
   "source": [
    "# Funciones a usar "
   ]
  },
  {
   "cell_type": "code",
   "execution_count": null,
   "metadata": {},
   "outputs": [],
   "source": [
    "def GetLatLon2(Address,YOUR_API_KEY): \n",
    "\n",
    "    url2_geocode  = f'https://geocode.search.hereapi.com/v1/geocode?q={Address}&apiKey='+YOUR_API_KEY\n",
    "    \n",
    "    try:\n",
    "        response = requests.get(url2_geocode).json()\n",
    "        CleanAddress = response['items'][0]['title'].upper()\n",
    "        LAT = response['items'][0]['position']['lat']\n",
    "        LON = response['items'][0]['position']['lng']\n",
    "        results = [CleanAddress,round(LAT,7),round(LON,7)]\n",
    "    except:\n",
    "        results = ['NotFound','NA','NA']\n",
    "    return results\n",
    "\n",
    "def GetLatLon2_google(Address,YOUR_API_KEY): \n",
    "\n",
    "    api_url = f'https://maps.googleapis.com/maps/api/geocode/json?address={Address}&key={YOUR_API_KEY}'\n",
    "    try:\n",
    "        j = requests.get(api_url).json()\n",
    "        CleanAddress = str(j['results'][0]['formatted_address']).upper()\n",
    "        LAT = j['results'][0]['geometry']['location']['lat']\n",
    "        LON = j['results'][0]['geometry']['location']['lng']\n",
    "        results = [CleanAddress,round(LAT,7),round(LON,7)]\n",
    "    except:\n",
    "        results = ['NotFound','NA','NA']\n",
    "    return results,j \n",
    "\n",
    "\n",
    "def cal_dist(geo_source,point2,unit):\n",
    "    \n",
    "    \n",
    "    if unit == 'Km':\n",
    "        distance = haversine(geo_source, point2,Unit.KILOMETERS)\n",
    "    elif unit == 'm':\n",
    "        distance = haversine(geo_source, point2,Unit.METERS)\n",
    "    elif unit == 'miles':\n",
    "        distance = haversine(geo_source, point2,Unit.MILES)\n",
    "    \n",
    "    return round(distance,2)\n",
    "\n",
    "\n",
    "def distance_estac(geo_source,df,radio,unit):\n",
    "    \n",
    "    \n",
    "    distancia = []\n",
    "    source = []\n",
    "\n",
    "\n",
    "    for i in tqdm(range(len(df)),colour = 'green'):\n",
    "        distancia.append(cal_dist(geo_source,df['POINT'][i],unit))\n",
    "        source.append(geo_source)\n",
    "\n",
    "    new_df = df.copy()\n",
    "    new_df['SOURCE'] = source\n",
    "    new_df['DISTANCE'] = distancia\n",
    "    new_df = new_df[new_df['DISTANCE']<=radio]\n",
    "    new_df = new_df.reset_index()\n",
    "    new_df = new_df.drop(columns ='index')\n",
    "    return new_df.sort_values(by='DISTANCE',ascending=True)\n",
    "\n",
    "def transform_df_map(df):\n",
    "    \n",
    "\n",
    "    coordenadas = []\n",
    "\n",
    "    for i in range(len(df)):\n",
    "        \n",
    "        try :\n",
    "            \n",
    "            coord = float(df['LAT'][i]),float(df['LNG'][i])\n",
    "            coordenadas.append(coord)\n",
    "\n",
    "        except :\n",
    "            \n",
    "            coordenadas.append('EMPTY')\n",
    "            \n",
    "    df['POINT'] = coordenadas\n",
    "    df = df[df['POINT']!='EMPTY']\n",
    "    df = df.reset_index()\n",
    "    df = df.drop(columns = 'index')\n",
    "    new_df = df.copy()\n",
    "    \n",
    "    return new_df"
   ]
  }
 ],
 "metadata": {
  "kernelspec": {
   "display_name": ".venv",
   "language": "python",
   "name": "python3"
  },
  "language_info": {
   "codemirror_mode": {
    "name": "ipython",
    "version": 3
   },
   "file_extension": ".py",
   "mimetype": "text/x-python",
   "name": "python",
   "nbconvert_exporter": "python",
   "pygments_lexer": "ipython3",
   "version": "3.10.9 (main, Dec 15 2022, 17:11:09) [Clang 14.0.0 (clang-1400.0.29.202)]"
  },
  "orig_nbformat": 4,
  "vscode": {
   "interpreter": {
    "hash": "6b055c99a4caf5bf9b380a88b87db5eb7a42f21edf86e2ad684f16a148234611"
   }
  }
 },
 "nbformat": 4,
 "nbformat_minor": 2
}

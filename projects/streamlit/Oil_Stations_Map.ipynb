{
 "cells": [
  {
   "cell_type": "code",
   "execution_count": 2,
   "metadata": {},
   "outputs": [
    {
     "data": {
      "text/plain": [
       "True"
      ]
     },
     "execution_count": 2,
     "metadata": {},
     "output_type": "execute_result"
    }
   ],
   "source": [
    "import requests\n",
    "import random\n",
    "import pandas as pd \n",
    "from tqdm import tqdm\n",
    "import json \n",
    "\n",
    "import ast\n",
    "\n",
    "# Tools\n",
    "\n",
    "import folium\n",
    "from shapely.geometry import Polygon\n",
    "import numpy as np\n",
    "import geojson\n",
    "import matplotlib.pyplot as plt\n",
    "import geopandas as gpd\n",
    "import shapely.wkt\n",
    "from haversine import haversine, Unit\n",
    "import time\n",
    "from pyproj import Geod\n",
    "\n",
    "from shapely import wkt\n",
    "from geopandas import datasets, GeoDataFrame, read_file, points_from_xy\n",
    "from geopandas.tools import overlay\n",
    "from geopandas.tools import sjoin\n",
    "\n",
    "from folium.plugins import MeasureControl\n",
    "from folium.plugins import MarkerCluster\n",
    "\n",
    "import os\n",
    "from dotenv import load_dotenv\n",
    "\n",
    "load_dotenv()"
   ]
  },
  {
   "cell_type": "code",
   "execution_count": 3,
   "metadata": {},
   "outputs": [
    {
     "data": {
      "text/plain": [
       "'DmGXxjVgjYt4B3b8JOXGG6LLqVP3koaMtAcb7pu-epo'"
      ]
     },
     "execution_count": 3,
     "metadata": {},
     "output_type": "execute_result"
    }
   ],
   "source": [
    "YOUR_API_KEY = os.getenv('API_KEY')\n",
    "YOUR_API_KEY"
   ]
  },
  {
   "cell_type": "code",
   "execution_count": 4,
   "metadata": {},
   "outputs": [],
   "source": [
    "df_map = pd.read_csv('DATASET_FINAL.csv')"
   ]
  },
  {
   "cell_type": "code",
   "execution_count": 5,
   "metadata": {},
   "outputs": [
    {
     "data": {
      "text/html": [
       "<div>\n",
       "<style scoped>\n",
       "    .dataframe tbody tr th:only-of-type {\n",
       "        vertical-align: middle;\n",
       "    }\n",
       "\n",
       "    .dataframe tbody tr th {\n",
       "        vertical-align: top;\n",
       "    }\n",
       "\n",
       "    .dataframe thead th {\n",
       "        text-align: right;\n",
       "    }\n",
       "</style>\n",
       "<table border=\"1\" class=\"dataframe\">\n",
       "  <thead>\n",
       "    <tr style=\"text-align: right;\">\n",
       "      <th></th>\n",
       "      <th>Periodo</th>\n",
       "      <th>Mes</th>\n",
       "      <th>Codigo_departamento</th>\n",
       "      <th>Departamento</th>\n",
       "      <th>Codigo_municipio</th>\n",
       "      <th>Municipio</th>\n",
       "      <th>Nombre_comercial</th>\n",
       "      <th>Bandera</th>\n",
       "      <th>Direccion</th>\n",
       "      <th>Producto</th>\n",
       "      <th>Precio</th>\n",
       "      <th>Estado</th>\n",
       "      <th>Dir2</th>\n",
       "      <th>Full_Address</th>\n",
       "      <th>Coords</th>\n",
       "    </tr>\n",
       "  </thead>\n",
       "  <tbody>\n",
       "    <tr>\n",
       "      <th>0</th>\n",
       "      <td>2022</td>\n",
       "      <td>2</td>\n",
       "      <td>11</td>\n",
       "      <td>BOGOTA D.C.</td>\n",
       "      <td>11001</td>\n",
       "      <td>BOGOTA  D.C.</td>\n",
       "      <td>SUPER ESTACION DE SERVICIO TEXACO 10</td>\n",
       "      <td>TEXACO</td>\n",
       "      <td>AVENIDA CARRERA 7 No. 123A-48</td>\n",
       "      <td>GASOLINA CORRIENTE OXIGENADA</td>\n",
       "      <td>9860</td>\n",
       "      <td>A</td>\n",
       "      <td>AVENIDA CARRERA 7 No. 123A-48</td>\n",
       "      <td>AVENIDA CARRERA 7 No. 123A-48, Bogota  d.c., C...</td>\n",
       "      <td>(4.69921, -74.02878)</td>\n",
       "    </tr>\n",
       "    <tr>\n",
       "      <th>1</th>\n",
       "      <td>2022</td>\n",
       "      <td>2</td>\n",
       "      <td>11</td>\n",
       "      <td>BOGOTA D.C.</td>\n",
       "      <td>11001</td>\n",
       "      <td>BOGOTA  D.C.</td>\n",
       "      <td>SUPER ESTACION DE SERVICIO TEXACO 10</td>\n",
       "      <td>TEXACO</td>\n",
       "      <td>AVENIDA CARRERA 7 No. 123A-48</td>\n",
       "      <td>BIODIESEL EXTRA</td>\n",
       "      <td>9780</td>\n",
       "      <td>A</td>\n",
       "      <td>AVENIDA CARRERA 7 No. 123A-48</td>\n",
       "      <td>AVENIDA CARRERA 7 No. 123A-48, Bogota  d.c., C...</td>\n",
       "      <td>(4.69921, -74.02878)</td>\n",
       "    </tr>\n",
       "  </tbody>\n",
       "</table>\n",
       "</div>"
      ],
      "text/plain": [
       "   Periodo  Mes  Codigo_departamento Departamento  Codigo_municipio  \\\n",
       "0     2022    2                   11  BOGOTA D.C.             11001   \n",
       "1     2022    2                   11  BOGOTA D.C.             11001   \n",
       "\n",
       "      Municipio                      Nombre_comercial Bandera  \\\n",
       "0  BOGOTA  D.C.  SUPER ESTACION DE SERVICIO TEXACO 10  TEXACO   \n",
       "1  BOGOTA  D.C.  SUPER ESTACION DE SERVICIO TEXACO 10  TEXACO   \n",
       "\n",
       "                       Direccion                      Producto  Precio Estado  \\\n",
       "0  AVENIDA CARRERA 7 No. 123A-48  GASOLINA CORRIENTE OXIGENADA    9860      A   \n",
       "1  AVENIDA CARRERA 7 No. 123A-48               BIODIESEL EXTRA    9780      A   \n",
       "\n",
       "                            Dir2  \\\n",
       "0  AVENIDA CARRERA 7 No. 123A-48   \n",
       "1  AVENIDA CARRERA 7 No. 123A-48   \n",
       "\n",
       "                                        Full_Address                Coords  \n",
       "0  AVENIDA CARRERA 7 No. 123A-48, Bogota  d.c., C...  (4.69921, -74.02878)  \n",
       "1  AVENIDA CARRERA 7 No. 123A-48, Bogota  d.c., C...  (4.69921, -74.02878)  "
      ]
     },
     "execution_count": 5,
     "metadata": {},
     "output_type": "execute_result"
    }
   ],
   "source": [
    "df_map.head(2)"
   ]
  },
  {
   "cell_type": "code",
   "execution_count": 6,
   "metadata": {},
   "outputs": [],
   "source": [
    "df_map = df_map.drop_duplicates(subset=['Nombre_comercial','Bandera','Producto'])"
   ]
  },
  {
   "cell_type": "code",
   "execution_count": 7,
   "metadata": {},
   "outputs": [
    {
     "data": {
      "text/plain": [
       "940"
      ]
     },
     "execution_count": 7,
     "metadata": {},
     "output_type": "execute_result"
    }
   ],
   "source": [
    "len(df_map)"
   ]
  },
  {
   "cell_type": "code",
   "execution_count": 8,
   "metadata": {},
   "outputs": [
    {
     "data": {
      "text/plain": [
       "('NA', 'NA')            20\n",
       "(4.61872, -74.07497)     6\n",
       "(4.68947, -74.06588)     6\n",
       "(4.60302, -74.14303)     5\n",
       "(4.4976, -74.10764)      5\n",
       "                        ..\n",
       "(4.62139, -74.18436)     1\n",
       "(4.75523, -74.06481)     1\n",
       "(4.59662, -74.17924)     1\n",
       "(4.70551, -74.10576)     1\n",
       "(4.49828, -74.10745)     1\n",
       "Name: Coords, Length: 366, dtype: int64"
      ]
     },
     "execution_count": 8,
     "metadata": {},
     "output_type": "execute_result"
    }
   ],
   "source": [
    "df_map['Coords'].value_counts()"
   ]
  },
  {
   "cell_type": "code",
   "execution_count": 9,
   "metadata": {},
   "outputs": [
    {
     "data": {
      "text/plain": [
       "array(['Avenida Carrera 30 # 2 - 38', 'CRA 17 # 50-42',\n",
       "       'CALLE 80 # 24-30', 'Carrera 73 # 36A - 55 Sur',\n",
       "       'Calle 13 # 38 - 25', 'Calle 19 # 33 - 68', 'Carrera 7 # 84 - 91',\n",
       "       'CR 63 NO. 57 G - 74 Sur'], dtype=object)"
      ]
     },
     "execution_count": 9,
     "metadata": {},
     "output_type": "execute_result"
    }
   ],
   "source": [
    "df_map[df_map['Coords']==\"('NA', 'NA')\"]['Direccion'].unique()"
   ]
  },
  {
   "cell_type": "code",
   "execution_count": 10,
   "metadata": {},
   "outputs": [
    {
     "name": "stdout",
     "output_type": "stream",
     "text": [
      "<class 'pandas.core.frame.DataFrame'>\n",
      "Int64Index: 940 entries, 0 to 1365\n",
      "Data columns (total 15 columns):\n",
      " #   Column               Non-Null Count  Dtype \n",
      "---  ------               --------------  ----- \n",
      " 0   Periodo              940 non-null    int64 \n",
      " 1   Mes                  940 non-null    int64 \n",
      " 2   Codigo_departamento  940 non-null    int64 \n",
      " 3   Departamento         940 non-null    object\n",
      " 4   Codigo_municipio     940 non-null    int64 \n",
      " 5   Municipio            940 non-null    object\n",
      " 6   Nombre_comercial     940 non-null    object\n",
      " 7   Bandera              940 non-null    object\n",
      " 8   Direccion            940 non-null    object\n",
      " 9   Producto             940 non-null    object\n",
      " 10  Precio               940 non-null    int64 \n",
      " 11  Estado               940 non-null    object\n",
      " 12  Dir2                 940 non-null    object\n",
      " 13  Full_Address         940 non-null    object\n",
      " 14  Coords               940 non-null    object\n",
      "dtypes: int64(5), object(10)\n",
      "memory usage: 117.5+ KB\n"
     ]
    }
   ],
   "source": [
    "df_map.info()"
   ]
  },
  {
   "cell_type": "code",
   "execution_count": 11,
   "metadata": {},
   "outputs": [
    {
     "data": {
      "text/plain": [
       "'(4.69921, -74.02878)'"
      ]
     },
     "execution_count": 11,
     "metadata": {},
     "output_type": "execute_result"
    }
   ],
   "source": [
    "df_map['Coords'][0]"
   ]
  },
  {
   "cell_type": "code",
   "execution_count": 12,
   "metadata": {},
   "outputs": [
    {
     "data": {
      "text/plain": [
       "4.69921"
      ]
     },
     "execution_count": 12,
     "metadata": {},
     "output_type": "execute_result"
    }
   ],
   "source": [
    "float(df_map['Coords'][0].replace('(','').replace(')','').split(',')[0]) # Lat"
   ]
  },
  {
   "cell_type": "code",
   "execution_count": 13,
   "metadata": {},
   "outputs": [
    {
     "data": {
      "text/plain": [
       "-74.02878"
      ]
     },
     "execution_count": 13,
     "metadata": {},
     "output_type": "execute_result"
    }
   ],
   "source": [
    "float(df_map['Coords'][0].replace('(','').replace(')','').split(',')[1].strip()) # Longitud"
   ]
  },
  {
   "cell_type": "code",
   "execution_count": 14,
   "metadata": {},
   "outputs": [],
   "source": [
    "df_map['LAT'] = df_map['Coords'].apply(lambda x : float(x.replace('(','').replace(')','').split(',')[0]) if x !=  \"('NA', 'NA')\"  else 'Empty')\n",
    "df_map['LNG'] = df_map['Coords'].apply(lambda x : float(x.replace('(','').replace(')','').split(',')[1]) if x !=  \"('NA', 'NA')\"  else 'Empty')"
   ]
  },
  {
   "cell_type": "code",
   "execution_count": 15,
   "metadata": {},
   "outputs": [
    {
     "data": {
      "text/plain": [
       "Empty      20\n",
       "4.61872     6\n",
       "4.68947     6\n",
       "4.5894      6\n",
       "4.4976      5\n",
       "           ..\n",
       "4.59945     1\n",
       "4.59662     1\n",
       "4.70551     1\n",
       "4.68173     1\n",
       "4.49828     1\n",
       "Name: LAT, Length: 361, dtype: int64"
      ]
     },
     "execution_count": 15,
     "metadata": {},
     "output_type": "execute_result"
    }
   ],
   "source": [
    "df_map['LAT'].value_counts()"
   ]
  },
  {
   "cell_type": "code",
   "execution_count": 16,
   "metadata": {},
   "outputs": [
    {
     "data": {
      "text/plain": [
       "Empty        20\n",
       "-74.07497     6\n",
       "-74.06588     6\n",
       "-74.08027     6\n",
       "-74.10764     5\n",
       "             ..\n",
       "-74.17924     1\n",
       "-74.10745     1\n",
       "-74.08485     1\n",
       "-74.09248     1\n",
       "-74.18436     1\n",
       "Name: LNG, Length: 363, dtype: int64"
      ]
     },
     "execution_count": 16,
     "metadata": {},
     "output_type": "execute_result"
    }
   ],
   "source": [
    "df_map['LNG'].value_counts()"
   ]
  },
  {
   "attachments": {},
   "cell_type": "markdown",
   "metadata": {},
   "source": [
    "# Funciones a usar "
   ]
  },
  {
   "cell_type": "code",
   "execution_count": 17,
   "metadata": {},
   "outputs": [],
   "source": [
    "def GetLatLon2(Address,YOUR_API_KEY): \n",
    "\n",
    "    url2_geocode  = f'https://geocode.search.hereapi.com/v1/geocode?q={Address}&apiKey='+YOUR_API_KEY\n",
    "    \n",
    "    try:\n",
    "        response = requests.get(url2_geocode).json()\n",
    "        CleanAddress = response['items'][0]['title'].upper()\n",
    "        LAT = response['items'][0]['position']['lat']\n",
    "        LON = response['items'][0]['position']['lng']\n",
    "        results = [CleanAddress,round(LAT,7),round(LON,7)]\n",
    "    except:\n",
    "        results = ['NotFound','NA','NA']\n",
    "    return results\n",
    "\n",
    "def GetLatLon2_google(Address,YOUR_API_KEY): \n",
    "\n",
    "    api_url = f'https://maps.googleapis.com/maps/api/geocode/json?address={Address}&key={YOUR_API_KEY}'\n",
    "    try:\n",
    "        j = requests.get(api_url).json()\n",
    "        CleanAddress = str(j['results'][0]['formatted_address']).upper()\n",
    "        LAT = j['results'][0]['geometry']['location']['lat']\n",
    "        LON = j['results'][0]['geometry']['location']['lng']\n",
    "        results = [CleanAddress,round(LAT,7),round(LON,7)]\n",
    "    except:\n",
    "        results = ['NotFound','NA','NA']\n",
    "    return results,j \n",
    "\n",
    "\n",
    "def cal_dist(geo_source,point2,unit):\n",
    "    \n",
    "    \n",
    "    if unit == 'Km':\n",
    "        distance = haversine(geo_source, point2,Unit.KILOMETERS)\n",
    "    elif unit == 'm':\n",
    "        distance = haversine(geo_source, point2,Unit.METERS)\n",
    "    elif unit == 'miles':\n",
    "        distance = haversine(geo_source, point2,Unit.MILES)\n",
    "    \n",
    "    return round(distance,2)\n",
    "\n",
    "\n",
    "def distance_estac(geo_source,df,radio,unit):\n",
    "    \n",
    "    \n",
    "    distancia = []\n",
    "    source = []\n",
    "\n",
    "\n",
    "    for i in tqdm(range(len(df)),colour = 'green'):\n",
    "        distancia.append(cal_dist(geo_source,df['POINT'][i],unit))\n",
    "        source.append(geo_source)\n",
    "\n",
    "    new_df = df.copy()\n",
    "    new_df['SOURCE'] = source\n",
    "    new_df['DISTANCE'] = distancia\n",
    "    new_df = new_df[new_df['DISTANCE']<=radio]\n",
    "    new_df = new_df.reset_index()\n",
    "    new_df = new_df.drop(columns ='index')\n",
    "    return new_df.sort_values(by='DISTANCE',ascending=True)\n",
    "\n",
    "def transform_df_map(df):\n",
    "    \n",
    "\n",
    "    coordenadas = []\n",
    "\n",
    "    for i in range(len(df)):\n",
    "        \n",
    "        try :\n",
    "            \n",
    "            coord = float(df['LAT'][i]),float(df['LNG'][i])\n",
    "            coordenadas.append(coord)\n",
    "\n",
    "        except :\n",
    "            \n",
    "            coordenadas.append('EMPTY')\n",
    "            \n",
    "    df['POINT'] = coordenadas\n",
    "    df = df[df['POINT']!='EMPTY']\n",
    "    df = df.reset_index()\n",
    "    df = df.drop(columns = 'index')\n",
    "    new_df = df.copy()\n",
    "    \n",
    "    return new_df"
   ]
  },
  {
   "attachments": {},
   "cell_type": "markdown",
   "metadata": {},
   "source": [
    "# Paso a Paso de la App\n",
    "\n",
    "1. Filtrar la ciudad\n",
    "2. Ingresar la central location\n",
    "3. Configurar el radio y la unidad de medida\n",
    "4. Calcular la distancia\n"
   ]
  },
  {
   "attachments": {},
   "cell_type": "markdown",
   "metadata": {},
   "source": [
    "# Filtrar ciudad"
   ]
  },
  {
   "cell_type": "code",
   "execution_count": 18,
   "metadata": {},
   "outputs": [
    {
     "data": {
      "text/plain": [
       "['BOGOTA  D.C.']"
      ]
     },
     "execution_count": 18,
     "metadata": {},
     "output_type": "execute_result"
    }
   ],
   "source": [
    "cities = list(df_map['Municipio'].unique())\n",
    "cities"
   ]
  },
  {
   "cell_type": "code",
   "execution_count": 19,
   "metadata": {},
   "outputs": [
    {
     "data": {
      "text/html": [
       "<div>\n",
       "<style scoped>\n",
       "    .dataframe tbody tr th:only-of-type {\n",
       "        vertical-align: middle;\n",
       "    }\n",
       "\n",
       "    .dataframe tbody tr th {\n",
       "        vertical-align: top;\n",
       "    }\n",
       "\n",
       "    .dataframe thead th {\n",
       "        text-align: right;\n",
       "    }\n",
       "</style>\n",
       "<table border=\"1\" class=\"dataframe\">\n",
       "  <thead>\n",
       "    <tr style=\"text-align: right;\">\n",
       "      <th></th>\n",
       "      <th>Periodo</th>\n",
       "      <th>Mes</th>\n",
       "      <th>Codigo_departamento</th>\n",
       "      <th>Departamento</th>\n",
       "      <th>Codigo_municipio</th>\n",
       "      <th>Municipio</th>\n",
       "      <th>Nombre_comercial</th>\n",
       "      <th>Bandera</th>\n",
       "      <th>Direccion</th>\n",
       "      <th>Producto</th>\n",
       "      <th>Precio</th>\n",
       "      <th>Estado</th>\n",
       "      <th>Dir2</th>\n",
       "      <th>Full_Address</th>\n",
       "      <th>Coords</th>\n",
       "      <th>LAT</th>\n",
       "      <th>LNG</th>\n",
       "    </tr>\n",
       "  </thead>\n",
       "  <tbody>\n",
       "    <tr>\n",
       "      <th>0</th>\n",
       "      <td>2022</td>\n",
       "      <td>2</td>\n",
       "      <td>11</td>\n",
       "      <td>BOGOTA D.C.</td>\n",
       "      <td>11001</td>\n",
       "      <td>BOGOTA  D.C.</td>\n",
       "      <td>SUPER ESTACION DE SERVICIO TEXACO 10</td>\n",
       "      <td>TEXACO</td>\n",
       "      <td>AVENIDA CARRERA 7 No. 123A-48</td>\n",
       "      <td>GASOLINA CORRIENTE OXIGENADA</td>\n",
       "      <td>9860</td>\n",
       "      <td>A</td>\n",
       "      <td>AVENIDA CARRERA 7 No. 123A-48</td>\n",
       "      <td>AVENIDA CARRERA 7 No. 123A-48, Bogota  d.c., C...</td>\n",
       "      <td>(4.69921, -74.02878)</td>\n",
       "      <td>4.69921</td>\n",
       "      <td>-74.02878</td>\n",
       "    </tr>\n",
       "    <tr>\n",
       "      <th>1</th>\n",
       "      <td>2022</td>\n",
       "      <td>2</td>\n",
       "      <td>11</td>\n",
       "      <td>BOGOTA D.C.</td>\n",
       "      <td>11001</td>\n",
       "      <td>BOGOTA  D.C.</td>\n",
       "      <td>SUPER ESTACION DE SERVICIO TEXACO 10</td>\n",
       "      <td>TEXACO</td>\n",
       "      <td>AVENIDA CARRERA 7 No. 123A-48</td>\n",
       "      <td>BIODIESEL EXTRA</td>\n",
       "      <td>9780</td>\n",
       "      <td>A</td>\n",
       "      <td>AVENIDA CARRERA 7 No. 123A-48</td>\n",
       "      <td>AVENIDA CARRERA 7 No. 123A-48, Bogota  d.c., C...</td>\n",
       "      <td>(4.69921, -74.02878)</td>\n",
       "      <td>4.69921</td>\n",
       "      <td>-74.02878</td>\n",
       "    </tr>\n",
       "    <tr>\n",
       "      <th>2</th>\n",
       "      <td>2022</td>\n",
       "      <td>2</td>\n",
       "      <td>11</td>\n",
       "      <td>BOGOTA D.C.</td>\n",
       "      <td>11001</td>\n",
       "      <td>BOGOTA  D.C.</td>\n",
       "      <td>SUPER ESTACION DE SERVICIO TEXACO 10</td>\n",
       "      <td>TEXACO</td>\n",
       "      <td>AVENIDA CARRERA 7 No. 123A-48</td>\n",
       "      <td>GASOLINA EXTRA OXIGENADA</td>\n",
       "      <td>17250</td>\n",
       "      <td>A</td>\n",
       "      <td>AVENIDA CARRERA 7 No. 123A-48</td>\n",
       "      <td>AVENIDA CARRERA 7 No. 123A-48, Bogota  d.c., C...</td>\n",
       "      <td>(4.69921, -74.02878)</td>\n",
       "      <td>4.69921</td>\n",
       "      <td>-74.02878</td>\n",
       "    </tr>\n",
       "    <tr>\n",
       "      <th>3</th>\n",
       "      <td>2022</td>\n",
       "      <td>2</td>\n",
       "      <td>11</td>\n",
       "      <td>BOGOTA D.C.</td>\n",
       "      <td>11001</td>\n",
       "      <td>BOGOTA  D.C.</td>\n",
       "      <td>ESTACION DE SERVICIO ROXI</td>\n",
       "      <td>MOBIL</td>\n",
       "      <td>Carrera 24  No 7-11</td>\n",
       "      <td>GASOLINA EXTRA OXIGENADA</td>\n",
       "      <td>16860</td>\n",
       "      <td>A</td>\n",
       "      <td>Carrera 24  No 7-11</td>\n",
       "      <td>Carrera 24  No 7-11, Bogota  d.c., Colombia</td>\n",
       "      <td>(4.60425, -74.09239)</td>\n",
       "      <td>4.60425</td>\n",
       "      <td>-74.09239</td>\n",
       "    </tr>\n",
       "    <tr>\n",
       "      <th>4</th>\n",
       "      <td>2022</td>\n",
       "      <td>2</td>\n",
       "      <td>11</td>\n",
       "      <td>BOGOTA D.C.</td>\n",
       "      <td>11001</td>\n",
       "      <td>BOGOTA  D.C.</td>\n",
       "      <td>ESTACION DE SERVICIO ROXI</td>\n",
       "      <td>MOBIL</td>\n",
       "      <td>Carrera 24  No 7-11</td>\n",
       "      <td>BIODIESEL EXTRA</td>\n",
       "      <td>9145</td>\n",
       "      <td>A</td>\n",
       "      <td>Carrera 24  No 7-11</td>\n",
       "      <td>Carrera 24  No 7-11, Bogota  d.c., Colombia</td>\n",
       "      <td>(4.60425, -74.09239)</td>\n",
       "      <td>4.60425</td>\n",
       "      <td>-74.09239</td>\n",
       "    </tr>\n",
       "    <tr>\n",
       "      <th>...</th>\n",
       "      <td>...</td>\n",
       "      <td>...</td>\n",
       "      <td>...</td>\n",
       "      <td>...</td>\n",
       "      <td>...</td>\n",
       "      <td>...</td>\n",
       "      <td>...</td>\n",
       "      <td>...</td>\n",
       "      <td>...</td>\n",
       "      <td>...</td>\n",
       "      <td>...</td>\n",
       "      <td>...</td>\n",
       "      <td>...</td>\n",
       "      <td>...</td>\n",
       "      <td>...</td>\n",
       "      <td>...</td>\n",
       "      <td>...</td>\n",
       "    </tr>\n",
       "    <tr>\n",
       "      <th>935</th>\n",
       "      <td>2022</td>\n",
       "      <td>2</td>\n",
       "      <td>11</td>\n",
       "      <td>BOGOTA D.C.</td>\n",
       "      <td>11001</td>\n",
       "      <td>BOGOTA  D.C.</td>\n",
       "      <td>ESTACIÓN DE SERVICIO LA GRANJA</td>\n",
       "      <td>TEXACO</td>\n",
       "      <td>CALLE 79 No. 76-60</td>\n",
       "      <td>BIODIESEL EXTRA</td>\n",
       "      <td>9238</td>\n",
       "      <td>A</td>\n",
       "      <td>CALLE 79 No. 76-60</td>\n",
       "      <td>CALLE 79 No. 76-60, Bogota  d.c., Colombia</td>\n",
       "      <td>(4.6975, -74.09412)</td>\n",
       "      <td>4.6975</td>\n",
       "      <td>-74.09412</td>\n",
       "    </tr>\n",
       "    <tr>\n",
       "      <th>936</th>\n",
       "      <td>2022</td>\n",
       "      <td>2</td>\n",
       "      <td>11</td>\n",
       "      <td>BOGOTA D.C.</td>\n",
       "      <td>11001</td>\n",
       "      <td>BOGOTA  D.C.</td>\n",
       "      <td>ESTACIÓN DE SERVICIO LA GRANJA</td>\n",
       "      <td>TEXACO</td>\n",
       "      <td>CALLE 79 No. 76-60</td>\n",
       "      <td>GASOLINA CORRIENTE OXIGENADA</td>\n",
       "      <td>9474</td>\n",
       "      <td>A</td>\n",
       "      <td>CALLE 79 No. 76-60</td>\n",
       "      <td>CALLE 79 No. 76-60, Bogota  d.c., Colombia</td>\n",
       "      <td>(4.6975, -74.09412)</td>\n",
       "      <td>4.6975</td>\n",
       "      <td>-74.09412</td>\n",
       "    </tr>\n",
       "    <tr>\n",
       "      <th>937</th>\n",
       "      <td>2022</td>\n",
       "      <td>2</td>\n",
       "      <td>11</td>\n",
       "      <td>BOGOTA D.C.</td>\n",
       "      <td>11001</td>\n",
       "      <td>BOGOTA  D.C.</td>\n",
       "      <td>EDS COESCO PARALELA 118</td>\n",
       "      <td>ESSO</td>\n",
       "      <td>Avenida Carrera 45 (Autopista Norte) No 118- 5...</td>\n",
       "      <td>GASOLINA EXTRA OXIGENADA</td>\n",
       "      <td>16690</td>\n",
       "      <td>A</td>\n",
       "      <td>Avenida Carrera 45 (Autopista Norte) No 118- 5...</td>\n",
       "      <td>Avenida Carrera 45 (Autopista Norte) No 118- 5...</td>\n",
       "      <td>(4.68487, -74.05714)</td>\n",
       "      <td>4.68487</td>\n",
       "      <td>-74.05714</td>\n",
       "    </tr>\n",
       "    <tr>\n",
       "      <th>938</th>\n",
       "      <td>2022</td>\n",
       "      <td>2</td>\n",
       "      <td>11</td>\n",
       "      <td>BOGOTA D.C.</td>\n",
       "      <td>11001</td>\n",
       "      <td>BOGOTA  D.C.</td>\n",
       "      <td>EDS COESCO PARALELA 118</td>\n",
       "      <td>ESSO</td>\n",
       "      <td>Avenida Carrera 45 (Autopista Norte) No 118- 5...</td>\n",
       "      <td>GASOLINA CORRIENTE OXIGENADA</td>\n",
       "      <td>9590</td>\n",
       "      <td>A</td>\n",
       "      <td>Avenida Carrera 45 (Autopista Norte) No 118- 5...</td>\n",
       "      <td>Avenida Carrera 45 (Autopista Norte) No 118- 5...</td>\n",
       "      <td>(4.68487, -74.05714)</td>\n",
       "      <td>4.68487</td>\n",
       "      <td>-74.05714</td>\n",
       "    </tr>\n",
       "    <tr>\n",
       "      <th>939</th>\n",
       "      <td>2022</td>\n",
       "      <td>2</td>\n",
       "      <td>11</td>\n",
       "      <td>BOGOTA D.C.</td>\n",
       "      <td>11001</td>\n",
       "      <td>BOGOTA  D.C.</td>\n",
       "      <td>EDS COESCO PARALELA 118</td>\n",
       "      <td>ESSO</td>\n",
       "      <td>Avenida Carrera 45 (Autopista Norte) No 118- 5...</td>\n",
       "      <td>BIODIESEL EXTRA</td>\n",
       "      <td>10290</td>\n",
       "      <td>A</td>\n",
       "      <td>Avenida Carrera 45 (Autopista Norte) No 118- 5...</td>\n",
       "      <td>Avenida Carrera 45 (Autopista Norte) No 118- 5...</td>\n",
       "      <td>(4.68487, -74.05714)</td>\n",
       "      <td>4.68487</td>\n",
       "      <td>-74.05714</td>\n",
       "    </tr>\n",
       "  </tbody>\n",
       "</table>\n",
       "<p>940 rows × 17 columns</p>\n",
       "</div>"
      ],
      "text/plain": [
       "     Periodo  Mes  Codigo_departamento Departamento  Codigo_municipio  \\\n",
       "0       2022    2                   11  BOGOTA D.C.             11001   \n",
       "1       2022    2                   11  BOGOTA D.C.             11001   \n",
       "2       2022    2                   11  BOGOTA D.C.             11001   \n",
       "3       2022    2                   11  BOGOTA D.C.             11001   \n",
       "4       2022    2                   11  BOGOTA D.C.             11001   \n",
       "..       ...  ...                  ...          ...               ...   \n",
       "935     2022    2                   11  BOGOTA D.C.             11001   \n",
       "936     2022    2                   11  BOGOTA D.C.             11001   \n",
       "937     2022    2                   11  BOGOTA D.C.             11001   \n",
       "938     2022    2                   11  BOGOTA D.C.             11001   \n",
       "939     2022    2                   11  BOGOTA D.C.             11001   \n",
       "\n",
       "        Municipio                      Nombre_comercial Bandera  \\\n",
       "0    BOGOTA  D.C.  SUPER ESTACION DE SERVICIO TEXACO 10  TEXACO   \n",
       "1    BOGOTA  D.C.  SUPER ESTACION DE SERVICIO TEXACO 10  TEXACO   \n",
       "2    BOGOTA  D.C.  SUPER ESTACION DE SERVICIO TEXACO 10  TEXACO   \n",
       "3    BOGOTA  D.C.             ESTACION DE SERVICIO ROXI   MOBIL   \n",
       "4    BOGOTA  D.C.             ESTACION DE SERVICIO ROXI   MOBIL   \n",
       "..            ...                                   ...     ...   \n",
       "935  BOGOTA  D.C.        ESTACIÓN DE SERVICIO LA GRANJA  TEXACO   \n",
       "936  BOGOTA  D.C.        ESTACIÓN DE SERVICIO LA GRANJA  TEXACO   \n",
       "937  BOGOTA  D.C.               EDS COESCO PARALELA 118    ESSO   \n",
       "938  BOGOTA  D.C.               EDS COESCO PARALELA 118    ESSO   \n",
       "939  BOGOTA  D.C.               EDS COESCO PARALELA 118    ESSO   \n",
       "\n",
       "                                             Direccion  \\\n",
       "0                        AVENIDA CARRERA 7 No. 123A-48   \n",
       "1                        AVENIDA CARRERA 7 No. 123A-48   \n",
       "2                        AVENIDA CARRERA 7 No. 123A-48   \n",
       "3                                  Carrera 24  No 7-11   \n",
       "4                                  Carrera 24  No 7-11   \n",
       "..                                                 ...   \n",
       "935                                 CALLE 79 No. 76-60   \n",
       "936                                 CALLE 79 No. 76-60   \n",
       "937  Avenida Carrera 45 (Autopista Norte) No 118- 5...   \n",
       "938  Avenida Carrera 45 (Autopista Norte) No 118- 5...   \n",
       "939  Avenida Carrera 45 (Autopista Norte) No 118- 5...   \n",
       "\n",
       "                         Producto  Precio Estado  \\\n",
       "0    GASOLINA CORRIENTE OXIGENADA    9860      A   \n",
       "1                 BIODIESEL EXTRA    9780      A   \n",
       "2        GASOLINA EXTRA OXIGENADA   17250      A   \n",
       "3        GASOLINA EXTRA OXIGENADA   16860      A   \n",
       "4                 BIODIESEL EXTRA    9145      A   \n",
       "..                            ...     ...    ...   \n",
       "935               BIODIESEL EXTRA    9238      A   \n",
       "936  GASOLINA CORRIENTE OXIGENADA    9474      A   \n",
       "937      GASOLINA EXTRA OXIGENADA   16690      A   \n",
       "938  GASOLINA CORRIENTE OXIGENADA    9590      A   \n",
       "939               BIODIESEL EXTRA   10290      A   \n",
       "\n",
       "                                                  Dir2  \\\n",
       "0                        AVENIDA CARRERA 7 No. 123A-48   \n",
       "1                        AVENIDA CARRERA 7 No. 123A-48   \n",
       "2                        AVENIDA CARRERA 7 No. 123A-48   \n",
       "3                                  Carrera 24  No 7-11   \n",
       "4                                  Carrera 24  No 7-11   \n",
       "..                                                 ...   \n",
       "935                                 CALLE 79 No. 76-60   \n",
       "936                                 CALLE 79 No. 76-60   \n",
       "937  Avenida Carrera 45 (Autopista Norte) No 118- 5...   \n",
       "938  Avenida Carrera 45 (Autopista Norte) No 118- 5...   \n",
       "939  Avenida Carrera 45 (Autopista Norte) No 118- 5...   \n",
       "\n",
       "                                          Full_Address                Coords  \\\n",
       "0    AVENIDA CARRERA 7 No. 123A-48, Bogota  d.c., C...  (4.69921, -74.02878)   \n",
       "1    AVENIDA CARRERA 7 No. 123A-48, Bogota  d.c., C...  (4.69921, -74.02878)   \n",
       "2    AVENIDA CARRERA 7 No. 123A-48, Bogota  d.c., C...  (4.69921, -74.02878)   \n",
       "3          Carrera 24  No 7-11, Bogota  d.c., Colombia  (4.60425, -74.09239)   \n",
       "4          Carrera 24  No 7-11, Bogota  d.c., Colombia  (4.60425, -74.09239)   \n",
       "..                                                 ...                   ...   \n",
       "935         CALLE 79 No. 76-60, Bogota  d.c., Colombia   (4.6975, -74.09412)   \n",
       "936         CALLE 79 No. 76-60, Bogota  d.c., Colombia   (4.6975, -74.09412)   \n",
       "937  Avenida Carrera 45 (Autopista Norte) No 118- 5...  (4.68487, -74.05714)   \n",
       "938  Avenida Carrera 45 (Autopista Norte) No 118- 5...  (4.68487, -74.05714)   \n",
       "939  Avenida Carrera 45 (Autopista Norte) No 118- 5...  (4.68487, -74.05714)   \n",
       "\n",
       "         LAT       LNG  \n",
       "0    4.69921 -74.02878  \n",
       "1    4.69921 -74.02878  \n",
       "2    4.69921 -74.02878  \n",
       "3    4.60425 -74.09239  \n",
       "4    4.60425 -74.09239  \n",
       "..       ...       ...  \n",
       "935   4.6975 -74.09412  \n",
       "936   4.6975 -74.09412  \n",
       "937  4.68487 -74.05714  \n",
       "938  4.68487 -74.05714  \n",
       "939  4.68487 -74.05714  \n",
       "\n",
       "[940 rows x 17 columns]"
      ]
     },
     "execution_count": 19,
     "metadata": {},
     "output_type": "execute_result"
    }
   ],
   "source": [
    "df_city = df_map[df_map['Municipio']==cities[0]]\n",
    "df_city.reset_index(inplace=True)\n",
    "df_city.drop(columns='index',inplace=True)\n",
    "df_city"
   ]
  },
  {
   "cell_type": "code",
   "execution_count": 20,
   "metadata": {},
   "outputs": [],
   "source": [
    "central_location = 'CC Multiplaza, Bogota'\n",
    "central_location = central_location.replace('#','No')\n",
    "R = GetLatLon2(central_location, YOUR_API_KEY)"
   ]
  },
  {
   "cell_type": "code",
   "execution_count": 21,
   "metadata": {},
   "outputs": [
    {
     "data": {
      "text/plain": [
       "(4.65226, -74.12695)"
      ]
     },
     "execution_count": 21,
     "metadata": {},
     "output_type": "execute_result"
    }
   ],
   "source": [
    "geo_source = R[1], R[2]\n",
    "geo_source"
   ]
  },
  {
   "cell_type": "code",
   "execution_count": 23,
   "metadata": {},
   "outputs": [],
   "source": [
    "radio = 1\n",
    "unit = 'Km'"
   ]
  },
  {
   "attachments": {},
   "cell_type": "markdown",
   "metadata": {},
   "source": [
    "# Show Map"
   ]
  },
  {
   "cell_type": "code",
   "execution_count": 28,
   "metadata": {},
   "outputs": [
    {
     "data": {
      "text/html": [
       "<div style=\"width:100%;\"><div style=\"position:relative;width:100%;height:0;padding-bottom:60%;\"><span style=\"color:#565656\">Make this Notebook Trusted to load map: File -> Trust Notebook</span><iframe srcdoc=\"&lt;!DOCTYPE html&gt;\n",
       "&lt;html&gt;\n",
       "&lt;head&gt;\n",
       "    \n",
       "    &lt;meta http-equiv=&quot;content-type&quot; content=&quot;text/html; charset=UTF-8&quot; /&gt;\n",
       "    \n",
       "        &lt;script&gt;\n",
       "            L_NO_TOUCH = false;\n",
       "            L_DISABLE_3D = false;\n",
       "        &lt;/script&gt;\n",
       "    \n",
       "    &lt;style&gt;html, body {width: 100%;height: 100%;margin: 0;padding: 0;}&lt;/style&gt;\n",
       "    &lt;style&gt;#map {position:absolute;top:0;bottom:0;right:0;left:0;}&lt;/style&gt;\n",
       "    &lt;script src=&quot;https://cdn.jsdelivr.net/npm/leaflet@1.9.3/dist/leaflet.js&quot;&gt;&lt;/script&gt;\n",
       "    &lt;script src=&quot;https://code.jquery.com/jquery-1.12.4.min.js&quot;&gt;&lt;/script&gt;\n",
       "    &lt;script src=&quot;https://cdn.jsdelivr.net/npm/bootstrap@5.2.2/dist/js/bootstrap.bundle.min.js&quot;&gt;&lt;/script&gt;\n",
       "    &lt;script src=&quot;https://cdnjs.cloudflare.com/ajax/libs/Leaflet.awesome-markers/2.0.2/leaflet.awesome-markers.js&quot;&gt;&lt;/script&gt;\n",
       "    &lt;link rel=&quot;stylesheet&quot; href=&quot;https://cdn.jsdelivr.net/npm/leaflet@1.9.3/dist/leaflet.css&quot;/&gt;\n",
       "    &lt;link rel=&quot;stylesheet&quot; href=&quot;https://cdn.jsdelivr.net/npm/bootstrap@5.2.2/dist/css/bootstrap.min.css&quot;/&gt;\n",
       "    &lt;link rel=&quot;stylesheet&quot; href=&quot;https://netdna.bootstrapcdn.com/bootstrap/3.0.0/css/bootstrap.min.css&quot;/&gt;\n",
       "    &lt;link rel=&quot;stylesheet&quot; href=&quot;https://cdn.jsdelivr.net/npm/@fortawesome/fontawesome-free@6.2.0/css/all.min.css&quot;/&gt;\n",
       "    &lt;link rel=&quot;stylesheet&quot; href=&quot;https://cdnjs.cloudflare.com/ajax/libs/Leaflet.awesome-markers/2.0.2/leaflet.awesome-markers.css&quot;/&gt;\n",
       "    &lt;link rel=&quot;stylesheet&quot; href=&quot;https://cdn.jsdelivr.net/gh/python-visualization/folium/folium/templates/leaflet.awesome.rotate.min.css&quot;/&gt;\n",
       "    \n",
       "            &lt;meta name=&quot;viewport&quot; content=&quot;width=device-width,\n",
       "                initial-scale=1.0, maximum-scale=1.0, user-scalable=no&quot; /&gt;\n",
       "            &lt;style&gt;\n",
       "                #map_b8f5278f3bf928919a9bb12696771804 {\n",
       "                    position: relative;\n",
       "                    width: 100.0%;\n",
       "                    height: 100.0%;\n",
       "                    left: 0.0%;\n",
       "                    top: 0.0%;\n",
       "                }\n",
       "                .leaflet-container { font-size: 1rem; }\n",
       "            &lt;/style&gt;\n",
       "        \n",
       "&lt;/head&gt;\n",
       "&lt;body&gt;\n",
       "    \n",
       "    \n",
       "            &lt;div class=&quot;folium-map&quot; id=&quot;map_b8f5278f3bf928919a9bb12696771804&quot; &gt;&lt;/div&gt;\n",
       "        \n",
       "&lt;/body&gt;\n",
       "&lt;script&gt;\n",
       "    \n",
       "    \n",
       "            var map_b8f5278f3bf928919a9bb12696771804 = L.map(\n",
       "                &quot;map_b8f5278f3bf928919a9bb12696771804&quot;,\n",
       "                {\n",
       "                    center: [4.65226, -74.12695],\n",
       "                    crs: L.CRS.EPSG3857,\n",
       "                    zoom: 15,\n",
       "                    zoomControl: true,\n",
       "                    preferCanvas: false,\n",
       "                }\n",
       "            );\n",
       "\n",
       "            \n",
       "\n",
       "        \n",
       "    \n",
       "            var tile_layer_a21d16769bf7dbbf54ecc3e33396f10c = L.tileLayer(\n",
       "                &quot;https://{s}.tile.openstreetmap.org/{z}/{x}/{y}.png&quot;,\n",
       "                {&quot;attribution&quot;: &quot;Data by \\u0026copy; \\u003ca target=\\&quot;_blank\\&quot; href=\\&quot;http://openstreetmap.org\\&quot;\\u003eOpenStreetMap\\u003c/a\\u003e, under \\u003ca target=\\&quot;_blank\\&quot; href=\\&quot;http://www.openstreetmap.org/copyright\\&quot;\\u003eODbL\\u003c/a\\u003e.&quot;, &quot;detectRetina&quot;: false, &quot;maxNativeZoom&quot;: 18, &quot;maxZoom&quot;: 18, &quot;minZoom&quot;: 0, &quot;noWrap&quot;: false, &quot;opacity&quot;: 1, &quot;subdomains&quot;: &quot;abc&quot;, &quot;tms&quot;: false}\n",
       "            ).addTo(map_b8f5278f3bf928919a9bb12696771804);\n",
       "        \n",
       "    \n",
       "            var circle_a276f86e307d5107d31c76396ace0db5 = L.circle(\n",
       "                [4.65226, -74.12695],\n",
       "                {&quot;bubblingMouseEvents&quot;: true, &quot;color&quot;: &quot;green&quot;, &quot;dashArray&quot;: null, &quot;dashOffset&quot;: null, &quot;fill&quot;: &quot;green&quot;, &quot;fillColor&quot;: &quot;green&quot;, &quot;fillOpacity&quot;: 0.2, &quot;fillRule&quot;: &quot;evenodd&quot;, &quot;lineCap&quot;: &quot;round&quot;, &quot;lineJoin&quot;: &quot;round&quot;, &quot;opacity&quot;: 1.0, &quot;radius&quot;: 1000, &quot;stroke&quot;: true, &quot;weight&quot;: 3}\n",
       "            ).addTo(map_b8f5278f3bf928919a9bb12696771804);\n",
       "        \n",
       "    \n",
       "            var marker_b816001cc3724a6f0efdf3e071ab5d86 = L.marker(\n",
       "                [4.65226, -74.12695],\n",
       "                {}\n",
       "            ).addTo(map_b8f5278f3bf928919a9bb12696771804);\n",
       "        \n",
       "    \n",
       "            var icon_d587a48f1ce0e32f43862c8014e24ee1 = L.AwesomeMarkers.icon(\n",
       "                {&quot;extraClasses&quot;: &quot;fa-rotate-0&quot;, &quot;icon&quot;: &quot;home&quot;, &quot;iconColor&quot;: &quot;white&quot;, &quot;markerColor&quot;: &quot;black&quot;, &quot;prefix&quot;: &quot;glyphicon&quot;}\n",
       "            );\n",
       "            marker_b816001cc3724a6f0efdf3e071ab5d86.setIcon(icon_d587a48f1ce0e32f43862c8014e24ee1);\n",
       "        \n",
       "    \n",
       "        var popup_5dc046c89a00bdc4c2598d92ad4f9ea4 = L.popup({&quot;maxWidth&quot;: &quot;100%&quot;});\n",
       "\n",
       "        \n",
       "            \n",
       "                var html_5fca05181188db73fc8ba4e8c365673c = $(`&lt;div id=&quot;html_5fca05181188db73fc8ba4e8c365673c&quot; style=&quot;width: 100.0%; height: 100.0%;&quot;&gt;&lt;b&gt;Centroid&lt;/b&gt;&lt;/div&gt;`)[0];\n",
       "                popup_5dc046c89a00bdc4c2598d92ad4f9ea4.setContent(html_5fca05181188db73fc8ba4e8c365673c);\n",
       "            \n",
       "        \n",
       "\n",
       "        marker_b816001cc3724a6f0efdf3e071ab5d86.bindPopup(popup_5dc046c89a00bdc4c2598d92ad4f9ea4)\n",
       "        ;\n",
       "\n",
       "        \n",
       "    \n",
       "&lt;/script&gt;\n",
       "&lt;/html&gt;\" style=\"position:absolute;width:100%;height:100%;left:0;top:0;border:none !important;\" allowfullscreen webkitallowfullscreen mozallowfullscreen></iframe></div></div>"
      ],
      "text/plain": [
       "<folium.folium.Map at 0xffff5f8f9450>"
      ]
     },
     "execution_count": 28,
     "metadata": {},
     "output_type": "execute_result"
    }
   ],
   "source": [
    "m = folium.Map([geo_source[0],geo_source[1]], zoom_start= 15)\n",
    "\n",
    "folium.Circle(\n",
    "    radius = int(radio)*1000,\n",
    "    location = [geo_source[0],geo_source[1]],\n",
    "    color = 'green',\n",
    "    fill = 'green'\n",
    "\n",
    ").add_to(m)\n",
    "\n",
    "folium.Marker(\n",
    "\n",
    "            location = [geo_source[0],geo_source[1]],\n",
    "            icon =  folium.Icon(color='black',icon_color='white',\n",
    "            icon = \"home\",prefix = 'glyphicon'),\n",
    "            popup = \"<b>Centroid</b>\"\n",
    ").add_to(m)\n",
    "\n",
    "m"
   ]
  }
 ],
 "metadata": {
  "kernelspec": {
   "display_name": "base",
   "language": "python",
   "name": "python3"
  },
  "language_info": {
   "codemirror_mode": {
    "name": "ipython",
    "version": 3
   },
   "file_extension": ".py",
   "mimetype": "text/x-python",
   "name": "python",
   "nbconvert_exporter": "python",
   "pygments_lexer": "ipython3",
   "version": "3.10.6"
  },
  "orig_nbformat": 4,
  "vscode": {
   "interpreter": {
    "hash": "28b75d8de56fbb179db4c8b60f36828bb7c276a0aa71113c5081cf41384a886d"
   }
  }
 },
 "nbformat": 4,
 "nbformat_minor": 2
}
